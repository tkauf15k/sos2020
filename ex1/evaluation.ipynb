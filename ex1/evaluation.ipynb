{
 "cells": [
  {
   "cell_type": "markdown",
   "metadata": {
    "collapsed": true,
    "pycharm": {
     "name": "#%% md\n"
    }
   },
   "source": [
    "asdasd\n",
    "\n",
    "\n"
   ]
  },
  {
   "cell_type": "code",
   "execution_count": 51,
   "outputs": [],
   "source": [
    "import itertools\n",
    "import pickle\n",
    "import pandas as pd\n",
    "from deap import creator\n",
    "import numpy as np\n",
    "import matplotlib.pyplot as plt"
   ],
   "metadata": {
    "collapsed": false,
    "pycharm": {
     "name": "#%%\n"
    }
   }
  },
  {
   "cell_type": "code",
   "execution_count": 21,
   "outputs": [],
   "source": [
    "\n",
    "\n",
    "def parse_file(path):\n",
    "    data = []\n",
    "    with open(path, 'r') as f:\n",
    "        lines = f.readlines()\n",
    "        opt = int(lines[0].replace('optimum=', ''))\n",
    "        time = float(lines[1].split(',')[0].replace('execution_time=', ''))\n",
    "        trace = []\n",
    "        for idx,f in enumerate(lines[3:]):\n",
    "            parts = f.split(',')\n",
    "            fitness = int(float(parts[0].replace('fitness=', '')))\n",
    "            iteration = int(float(parts[1].replace('iteration=', '')))\n",
    "            gap = float(parts[2].replace('gap=', ''))\n",
    "            delta = int(float(parts[3].replace('delta=', '')))\n",
    "            timestamp = float(parts[4].replace('timestamp=', ''))\n",
    "            data.append((idx, opt, time, fitness, iteration, gap, delta, timestamp))\n",
    "    return data"
   ],
   "metadata": {
    "collapsed": false,
    "pycharm": {
     "name": "#%%\n"
    }
   }
  },
  {
   "cell_type": "code",
   "execution_count": 94,
   "outputs": [
    {
     "name": "stdout",
     "output_type": "stream",
     "text": [
      "NO-LocalSearch\n",
      "WITH-LocalSearch 50FF\n",
      "\\begin{tabular}{llrrrrrrrrr}\n",
      "\\toprule\n",
      "   &     &  optimum &   time &  fitness &  iteration &         gap &   time &  fitness &  iteration &        gap \\\\\n",
      "alg & n &          &        &          &            &             &        &          &            &            \\\\\n",
      "\\midrule\n",
      "aco & 10  &     1994 &    0.0 &     1994 &          0 &    0.000000 &    0.0 &     1994 &          0 &   0.000000 \\\\\n",
      "   & 20  &    11758 &    0.0 &    11758 &          0 &    0.000000 &    0.0 &    11758 &          0 &   0.000000 \\\\\n",
      "   & 30  &    19032 &    0.0 &    19032 &          2 &    0.000000 &    0.0 &    19032 &          0 &   0.000000 \\\\\n",
      "   & 40  &    20892 &   10.0 &    20892 &         88 &    0.000000 &    0.0 &    20892 &          0 &   0.000000 \\\\\n",
      "   & 50  &    34198 &  300.0 &    34320 &        280 &    0.356746 &    1.0 &    34198 &          0 &   0.000000 \\\\\n",
      "   & 60  &    42382 &  300.0 &    44310 &        317 &    4.549101 &    2.0 &    42382 &          0 &   0.000000 \\\\\n",
      "   & 70  &    47234 &  300.0 &    51766 &        623 &    9.594783 &    3.0 &    47234 &          0 &   0.000000 \\\\\n",
      "   & 80  &    53538 &  300.0 &    60872 &        587 &   13.698681 &    4.0 &    53538 &          0 &   0.000000 \\\\\n",
      "   & 90  &    69731 &  300.0 &    82387 &        150 &   18.149747 &    6.0 &    69731 &          0 &   0.000000 \\\\\n",
      "   & 100 &    83495 &  300.0 &   107141 &        257 &   28.320259 &   42.0 &    83495 &          5 &   0.000000 \\\\\n",
      "   & 150 &   104772 &  300.0 &   150908 &         68 &   44.034666 &  300.0 &   107586 &         24 &   2.685832 \\\\\n",
      "   & 200 &   130178 &  300.0 &   217644 &         36 &   67.189540 &  300.0 &   170190 &         17 &  30.736376 \\\\\n",
      "dnala & 10  &     1994 &    0.0 &     1994 &          0 &    0.000000 &    0.0 &     1994 &          1 &   0.000000 \\\\\n",
      "   & 20  &    11758 &    0.0 &    11758 &          0 &    0.000000 &    0.0 &    11758 &          1 &   0.000000 \\\\\n",
      "   & 30  &    19032 &    0.0 &    19032 &          0 &    0.000000 &    0.0 &    19032 &          1 &   0.000000 \\\\\n",
      "   & 40  &    20892 &    0.0 &    22066 &          0 &    5.619376 &    0.0 &    21164 &          1 &   1.301934 \\\\\n",
      "   & 50  &    34198 &    0.0 &    35336 &          0 &    3.327680 &    0.0 &    34198 &          1 &   0.000000 \\\\\n",
      "   & 60  &    42382 &    0.0 &    44666 &          0 &    5.389080 &    0.0 &    42890 &          1 &   1.198622 \\\\\n",
      "   & 70  &    47234 &    0.0 &    47252 &          0 &    0.038108 &    0.0 &    47244 &          1 &   0.021171 \\\\\n",
      "   & 80  &    53538 &    0.0 &    55448 &          0 &    3.567559 &    0.0 &    53538 &          1 &   0.000000 \\\\\n",
      "   & 90  &    69731 &    0.0 &    71779 &          0 &    2.937001 &    0.0 &    69747 &          1 &   0.022945 \\\\\n",
      "   & 100 &    83495 &    0.0 &    86513 &          0 &    3.614588 &    0.0 &    85293 &          1 &   2.153422 \\\\\n",
      "   & 150 &   104772 &    0.0 &   105824 &          0 &    1.004085 &    0.0 &   104940 &          1 &   0.160348 \\\\\n",
      "   & 200 &   130178 &    0.0 &   134640 &          0 &    3.427614 &    0.0 &   130194 &          1 &   0.012291 \\\\\n",
      "ga & 10  &     1994 &    0.0 &     1994 &          0 &    0.000000 &    0.0 &     1994 &          0 &   0.000000 \\\\\n",
      "   & 20  &    11758 &    1.0 &    11758 &         14 &    0.000000 &    0.0 &    11758 &          0 &   0.000000 \\\\\n",
      "   & 30  &    19032 &    3.0 &    19032 &         31 &    0.000000 &    1.0 &    19032 &          0 &   0.000000 \\\\\n",
      "   & 40  &    20892 &    6.0 &    20892 &         59 &    0.000000 &    3.0 &    20892 &          0 &   0.000000 \\\\\n",
      "   & 50  &    34198 &   20.0 &    34198 &        148 &    0.000000 &    5.0 &    34198 &          0 &   0.000000 \\\\\n",
      "   & 60  &    42382 &   29.0 &    42382 &        161 &    0.000000 &   12.0 &    42382 &          1 &   0.000000 \\\\\n",
      "   & 70  &    47234 &  300.0 &    47244 &        170 &    0.021171 &   18.0 &    47234 &          1 &   0.000000 \\\\\n",
      "   & 80  &    53538 &  300.0 &    54812 &        207 &    2.379618 &   19.0 &    53538 &          2 &   0.000000 \\\\\n",
      "   & 90  &    69731 &  300.0 &    69909 &        337 &    0.255267 &   25.0 &    69731 &          2 &   0.000000 \\\\\n",
      "   & 100 &    83495 &  300.0 &    92065 &        217 &   10.264088 &   62.0 &    83495 &          4 &   0.000000 \\\\\n",
      "   & 150 &   104772 &  300.0 &   178368 &        136 &   70.243958 &  225.0 &   104772 &          7 &   0.000000 \\\\\n",
      "   & 200 &   130178 &  300.0 &   315378 &        131 &  142.266742 &  300.0 &   130820 &          8 &   0.493171 \\\\\n",
      "\\bottomrule\n",
      "\\end{tabular}\n",
      "\n"
     ]
    }
   ],
   "source": [
    "def load_full_experiment(path, algs, ns, runs, ls):\n",
    "    data = []\n",
    "    for alg, n in list(itertools.product(algs, ns)):\n",
    "        for i in runs:\n",
    "            filename = path + \"result_{}_{}_{}_{}.txt\".format(alg, n, i, ls)\n",
    "            dat = parse_file(filename)\n",
    "            data = data + [(alg,n,i)+d for d in dat]\n",
    "\n",
    "    return data\n",
    "\n",
    "\n",
    "def load_ga_aco_dnala(path, ls):\n",
    "    algs = [\"ga\", \"aco\", \"dnala\"]\n",
    "    ns = [10, 20, 30, 40, 50, 60, 70, 80, 90, 100, 150, 200]\n",
    "    basepath = path\n",
    "    runs = range(0, 5)\n",
    "    data = load_full_experiment(basepath, algs, ns, runs, ls)\n",
    "\n",
    "    df = pd.DataFrame(data=data, columns=['alg','n','i','idx','optimum', 'time', 'fitness', 'iteration', 'gap', 'delta', 'timestamp'])\n",
    "    df = df.set_index(['alg','n','i','idx'])\n",
    "\n",
    "    df = df.groupby(by=['alg','n','i']).apply(lambda x: x.sort_values(['idx'], ascending=True)).groupby(by=['alg','n','i']).tail(1).groupby(by=['alg','n']).median()\n",
    "\n",
    "    df['time'] = np.minimum(np.floor(df['time']),300)\n",
    "    df = df.drop(columns=['timestamp','delta'])\n",
    "    return df\n",
    "\n",
    "print('NO-LocalSearch')\n",
    "without_ls = load_ga_aco_dnala('./output/results_nols/', False)\n",
    "\n",
    "#print('WITH-LocalSearch 100BF')\n",
    "#load_ga_aco_dnala('./output/results_100-ls/', True)\n",
    "\n",
    "print('WITH-LocalSearch 50FF')\n",
    "with_ls = load_ga_aco_dnala('./output/results_50-ff-ls/', True)\n",
    "\n",
    "with_ls.drop(columns='optimum',inplace=True)\n",
    "main_table = pd.concat([without_ls, with_ls], axis=1)\n",
    "\n",
    "print(main_table.to_latex())\n",
    "\n",
    "#main_table.drop(columns=['optimum'], inplace=True)\n",
    "#print(main_table)\n"
   ],
   "metadata": {
    "collapsed": false,
    "pycharm": {
     "name": "#%%\n"
    }
   }
  },
  {
   "cell_type": "code",
   "execution_count": 87,
   "outputs": [
    {
     "data": {
      "text/plain": "                     optimum  time  fitness  iteration         gap\npopulation_size n                                                 \n50              50     34198  12.0    34198        498    0.000000\n                100    83495  50.0   103653        649   24.142763\n                200   130178  50.0   412332        164  216.744765\n100             50     34198  18.0    34198        359    0.000000\n                100    83495  50.0   105781        398   26.691419\n                200   130178  50.0   364338        130  179.876784\n300             50     34198  13.0    34198         93    0.000000\n                100    83495  50.0    95859        289   14.808072\n                200   130178  50.0   276058        140  112.061946",
      "text/html": "<div>\n<style scoped>\n    .dataframe tbody tr th:only-of-type {\n        vertical-align: middle;\n    }\n\n    .dataframe tbody tr th {\n        vertical-align: top;\n    }\n\n    .dataframe thead th {\n        text-align: right;\n    }\n</style>\n<table border=\"1\" class=\"dataframe\">\n  <thead>\n    <tr style=\"text-align: right;\">\n      <th></th>\n      <th></th>\n      <th>optimum</th>\n      <th>time</th>\n      <th>fitness</th>\n      <th>iteration</th>\n      <th>gap</th>\n    </tr>\n    <tr>\n      <th>population_size</th>\n      <th>n</th>\n      <th></th>\n      <th></th>\n      <th></th>\n      <th></th>\n      <th></th>\n    </tr>\n  </thead>\n  <tbody>\n    <tr>\n      <th rowspan=\"3\" valign=\"top\">50</th>\n      <th>50</th>\n      <td>34198</td>\n      <td>12.0</td>\n      <td>34198</td>\n      <td>498</td>\n      <td>0.000000</td>\n    </tr>\n    <tr>\n      <th>100</th>\n      <td>83495</td>\n      <td>50.0</td>\n      <td>103653</td>\n      <td>649</td>\n      <td>24.142763</td>\n    </tr>\n    <tr>\n      <th>200</th>\n      <td>130178</td>\n      <td>50.0</td>\n      <td>412332</td>\n      <td>164</td>\n      <td>216.744765</td>\n    </tr>\n    <tr>\n      <th rowspan=\"3\" valign=\"top\">100</th>\n      <th>50</th>\n      <td>34198</td>\n      <td>18.0</td>\n      <td>34198</td>\n      <td>359</td>\n      <td>0.000000</td>\n    </tr>\n    <tr>\n      <th>100</th>\n      <td>83495</td>\n      <td>50.0</td>\n      <td>105781</td>\n      <td>398</td>\n      <td>26.691419</td>\n    </tr>\n    <tr>\n      <th>200</th>\n      <td>130178</td>\n      <td>50.0</td>\n      <td>364338</td>\n      <td>130</td>\n      <td>179.876784</td>\n    </tr>\n    <tr>\n      <th rowspan=\"3\" valign=\"top\">300</th>\n      <th>50</th>\n      <td>34198</td>\n      <td>13.0</td>\n      <td>34198</td>\n      <td>93</td>\n      <td>0.000000</td>\n    </tr>\n    <tr>\n      <th>100</th>\n      <td>83495</td>\n      <td>50.0</td>\n      <td>95859</td>\n      <td>289</td>\n      <td>14.808072</td>\n    </tr>\n    <tr>\n      <th>200</th>\n      <td>130178</td>\n      <td>50.0</td>\n      <td>276058</td>\n      <td>140</td>\n      <td>112.061946</td>\n    </tr>\n  </tbody>\n</table>\n</div>"
     },
     "execution_count": 87,
     "metadata": {},
     "output_type": "execute_result"
    },
    {
     "data": {
      "text/plain": "<Figure size 432x288 with 1 Axes>",
      "image/png": "[encoded data removed]"
     },
     "metadata": {
      "needs_background": "light"
     },
     "output_type": "display_data"
    }
   ],
   "source": [
    "def load_ga_population_comparison_full_experiment(path, ns, runs, population_sizes):\n",
    "    data = []\n",
    "    for population_size, n in list(itertools.product(population_sizes, ns)):\n",
    "        for i in runs:\n",
    "            filename = path + \"result_{}_ga_{}_{}.txt\".format(n,population_size, i)\n",
    "            dat = parse_file(filename)\n",
    "            data = data + [(n,i,population_size)+d for d in dat]\n",
    "\n",
    "    return data\n",
    "\n",
    "\n",
    "def load_ga_population_comparison(path):\n",
    "    ns = [50,100,200]\n",
    "    population_sizes = [50,100,300]\n",
    "    basepath = path\n",
    "    runs = range(0, 5)\n",
    "    data = load_ga_population_comparison_full_experiment(basepath, ns, runs, population_sizes)\n",
    "\n",
    "    raw = pd.DataFrame(data=data, columns=['n','i','population_size','idx','optimum', 'time', 'fitness', 'iteration', 'gap', 'delta', 'timestamp'])\n",
    "    df = raw.set_index(['n','i','population_size','idx'])\n",
    "\n",
    "    df = df.groupby(by=['population_size','n','i']).apply(lambda x: x.sort_values(['idx'], ascending=True)).groupby(by=['population_size','n','i']).tail(1).groupby(by=['population_size','n']).median()\n",
    "\n",
    "    df['time'] = np.minimum(np.floor(df['time']),50)\n",
    "    df = df.drop(columns=['timestamp','delta'])\n",
    "\n",
    "    pg = raw.drop(columns=['iteration', 'idx','delta','fitness','time'])\n",
    "\n",
    "    # df2 = raw.groupby(by=['population_size','n','i'])\n",
    "    instance_size = 100\n",
    "    instance = 3\n",
    "\n",
    "    pop_50 = pg[(pg.i == instance) & (pg.n == instance_size) & (pg.population_size == 50)][['gap','timestamp']]\n",
    "    pop_100 = pg[(pg.i == instance) & (pg.n == instance_size) & (pg.population_size == 100)][['gap','timestamp']]\n",
    "    pop_300 = pg[(pg.i == instance) & (pg.n == instance_size) & (pg.population_size == 300)][['gap','timestamp']]\n",
    "\n",
    "    pop_50 = pd.concat([pop_50, pd.DataFrame(data=[(pop_50['gap'].min(), 50)], columns=['gap','timestamp'])])\n",
    "    pop_100 = pd.concat([pop_100, pd.DataFrame(data=[(pop_100['gap'].min(), 50)], columns=['gap','timestamp'])])\n",
    "    pop_300 = pd.concat([pop_300, pd.DataFrame(data=[(pop_300['gap'].min(), 50)], columns=['gap','timestamp'])])\n",
    "\n",
    "    fig = plt.figure()\n",
    "    fig.add_subplot(1,1,1)\n",
    "\n",
    "    plt.plot(pop_50['timestamp'],pop_50['gap'], label='P=50')\n",
    "    plt.plot(pop_100['timestamp'],pop_100['gap'], label='P=100')\n",
    "    plt.plot(pop_300['timestamp'],pop_300['gap'], label='P=300')\n",
    "    plt.legend(loc='best')\n",
    "    # print(pop_50)\n",
    "    # print(pop_100)\n",
    "    # print(pop_300)\n",
    "\n",
    "    return df\n",
    "\n",
    "load_ga_population_comparison('./output/ga_only_population_sizes/')"
   ],
   "metadata": {
    "collapsed": false,
    "pycharm": {
     "name": "#%%\n"
    }
   }
  }
 ],
 "metadata": {
  "kernelspec": {
   "display_name": "Python 3",
   "language": "python",
   "name": "python3"
  },
  "language_info": {
   "codemirror_mode": {
    "name": "ipython",
    "version": 2
   },
   "file_extension": ".py",
   "mimetype": "text/x-python",
   "name": "python",
   "nbconvert_exporter": "python",
   "pygments_lexer": "ipython2",
   "version": "2.7.6"
  }
 },
 "nbformat": 4,
 "nbformat_minor": 0
}